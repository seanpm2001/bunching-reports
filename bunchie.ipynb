{
 "cells": [
  {
   "cell_type": "code",
   "execution_count": 4,
   "metadata": {},
   "outputs": [],
   "source": [
    "import boto3\n",
    "import datetime\n",
    "import pandas as pd\n",
    "from mbta_gtfs_sqlite import *\n",
    "import sqlite3\n",
    "from sqlalchemy import and_\n",
    "import gtfs_utils"
   ]
  },
  {
   "cell_type": "code",
   "execution_count": 5,
   "metadata": {},
   "outputs": [],
   "source": [
    "s3 = boto3.resource(\"s3\")"
   ]
  },
  {
   "cell_type": "code",
   "execution_count": 6,
   "metadata": {},
   "outputs": [],
   "source": [
    "archive_path = ('./gtfs-feeds')\n",
    "archive = MbtaGtfsArchive(local_archive_path=archive_path, s3_bucket=s3.Bucket(\"tm-gtfs\"))"
   ]
  },
  {
   "cell_type": "code",
   "execution_count": 7,
   "metadata": {},
   "outputs": [],
   "source": [
    "feeds = archive.get_feeds_for_dates(datetime.date(2023,5,1), datetime.date(2023,5,30))"
   ]
  },
  {
   "cell_type": "code",
   "execution_count": 8,
   "metadata": {},
   "outputs": [],
   "source": [
    "for feed in feeds:\n",
    "    feed.use_compact_only(True)\n",
    "    if not feed.exists_locally():\n",
    "        feed.download_or_build()"
   ]
  },
  {
   "cell_type": "code",
   "execution_count": 9,
   "metadata": {},
   "outputs": [],
   "source": [
    "feed = archive.get_feed_for_date(datetime.date(2023,5,1))\n",
    "feed.use_compact_only(True)\n",
    "feed.download_or_build()"
   ]
  },
  {
   "cell_type": "code",
   "execution_count": 11,
   "metadata": {},
   "outputs": [],
   "source": [
    "sesh = feeds[0].create_sqlite_session()"
   ]
  },
  {
   "cell_type": "code",
   "execution_count": 12,
   "metadata": {},
   "outputs": [],
   "source": [
    "all_may = pd.read_csv(\"in-data/2023/MBTA-Bus-Arrival-Departure-Times_2023-05.csv\")"
   ]
  },
  {
   "cell_type": "code",
   "execution_count": 48,
   "metadata": {},
   "outputs": [
    {
     "data": {
      "text/plain": [
       "'111 743 28 23 66 SL1 01 57 39 22 77 32 SL5 15 16 70 34E 09 71 73 SL2 SL4 117 34 31 08 47 240 45 87 44 86 11 21 109 350 116 88 101 104 36 110 225 455 10 216 07 60 89 215 78 230 24 19 96 220 137 450 238 75 134 41 65 80 442 93 35 106 CT2 29 17 746_ 504 120 108 69 83 426 100 74 222 42 94 62 95 30 43 CT3 51 38 37 92 14 201 40 429 64 59 501 99 435 236 112 91 26 210 52 211 505 119 430 411 50 226 441 132 354 436 33 105 97 90 67 553 76 131 04 61 68 121 18 202 245 85 55 217 114 451 351 456 424 554 556 558 428 439 191 192 193 171 194'"
      ]
     },
     "execution_count": 48,
     "metadata": {},
     "output_type": "execute_result"
    }
   ],
   "source": [
    "\" \".join(all_may.route_id.value_counts().index)"
   ]
  },
  {
   "cell_type": "code",
   "execution_count": 13,
   "metadata": {},
   "outputs": [],
   "source": [
    "ROUTE_ID = \"57\"\n",
    "TODAY=datetime.date(2023,5,1)"
   ]
  },
  {
   "cell_type": "code",
   "execution_count": 19,
   "metadata": {},
   "outputs": [],
   "source": [
    "sessionModels = gtfs_utils.load_session_models(sesh)\n",
    "today_services = gtfs_utils.get_services_for_date(sessionModels, TODAY)"
   ]
  },
  {
   "cell_type": "code",
   "execution_count": 44,
   "metadata": {},
   "outputs": [],
   "source": [
    "my_trips = sesh.query(Trip) \\\n",
    "    .filter(Trip.service_id.in_(today_services)) \\\n",
    "    .filter(Trip.route_id == ROUTE_ID) \\\n",
    "    .filter(Trip.direction_id == 0) \\\n",
    "    .all()"
   ]
  },
  {
   "cell_type": "code",
   "execution_count": 45,
   "metadata": {},
   "outputs": [
    {
     "data": {
      "text/plain": [
       "268"
      ]
     },
     "execution_count": 45,
     "metadata": {},
     "output_type": "execute_result"
    }
   ],
   "source": [
    "len(my_trips)"
   ]
  },
  {
   "cell_type": "code",
   "execution_count": null,
   "metadata": {},
   "outputs": [],
   "source": [
    "my_stops = sesh.query(StopTime) \\\n",
    "    .filter(StopTime.)"
   ]
  },
  {
   "cell_type": "code",
   "execution_count": null,
   "metadata": {},
   "outputs": [],
   "source": [
    "cnx = sqlite3.connect('gtfs-feeds/20230428/gtfs_compact.sqlite3')\n",
    "rid = pd.read_sql_query(\"select * from Route where route_id == 1 and feed_info_id == 1\", cnx).id.iloc[0]"
   ]
  },
  {
   "cell_type": "code",
   "execution_count": null,
   "metadata": {},
   "outputs": [],
   "source": [
    "sesh.query(Trip).filter(and_(Trip.route_id == 1, Trip.service_date == date(2023,5,1))).all()"
   ]
  },
  {
   "cell_type": "code",
   "execution_count": null,
   "metadata": {},
   "outputs": [],
   "source": [
    "from sqlalchemy import and_\n",
    "sesh.query(Trip).where(Trip.route_id == 1).all()[0].__dict__"
   ]
  },
  {
   "cell_type": "code",
   "execution_count": null,
   "metadata": {},
   "outputs": [],
   "source": [
    "for fi in session.query(mgs.FeedInfo).all():\n",
    "    print(fi.__dict__)"
   ]
  },
  {
   "cell_type": "code",
   "execution_count": null,
   "metadata": {},
   "outputs": [],
   "source": []
  },
  {
   "cell_type": "code",
   "execution_count": null,
   "metadata": {},
   "outputs": [],
   "source": []
  }
 ],
 "metadata": {
  "kernelspec": {
   "display_name": "bunching-reports",
   "language": "python",
   "name": "python3"
  },
  "language_info": {
   "codemirror_mode": {
    "name": "ipython",
    "version": 3
   },
   "file_extension": ".py",
   "mimetype": "text/x-python",
   "name": "python",
   "nbconvert_exporter": "python",
   "pygments_lexer": "ipython3",
   "version": "3.9.16"
  },
  "orig_nbformat": 4
 },
 "nbformat": 4,
 "nbformat_minor": 2
}
